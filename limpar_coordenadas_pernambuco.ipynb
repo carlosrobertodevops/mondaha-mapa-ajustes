{
 "cells": [
  {
   "cell_type": "markdown",
   "id": "9423ec7f",
   "metadata": {},
   "source": [
    "# 🧹 Limpeza de Coordenadas - Pernambuco\n",
    "Este notebook remove pontos redundantes que formam retas (inclusive inclinadas) a partir de um arquivo JSON com coordenadas."
   ]
  },
  {
   "cell_type": "code",
   "execution_count": null,
   "id": "64da8ad3",
   "metadata": {},
   "outputs": [],
   "source": [
    "# 📦 Importar bibliotecas\n",
    "import json\n",
    "import numpy as np"
   ]
  },
  {
   "cell_type": "code",
   "execution_count": null,
   "id": "46fccce1",
   "metadata": {},
   "outputs": [],
   "source": [
    "pathDados = \"./output_ne_coordinates/Pernambuco.json\""
   ]
  },
  {
   "cell_type": "code",
   "execution_count": null,
   "id": "da848a38",
   "metadata": {},
   "outputs": [],
   "source": [
    "# ⚙️ Função para detectar retas (horizontal, vertical ou inclinada)\n",
    "def is_redundant_straight(p1, p2, p3, angle_threshold=3.0):\n",
    "    \"\"\"Detecta se três pontos estão praticamente alinhados (reta).\"\"\"\n",
    "    a = np.array([p1[\"lng\"], p1[\"lat\"]])\n",
    "    b = np.array([p2[\"lng\"], p2[\"lat\"]])\n",
    "    c = np.array([p3[\"lng\"], p3[\"lat\"]])\n",
    "\n",
    "    ab = b - a\n",
    "    bc = c - b\n",
    "\n",
    "    ab_len = np.linalg.norm(ab)\n",
    "    bc_len = np.linalg.norm(bc)\n",
    "\n",
    "    if ab_len == 0 or bc_len == 0:\n",
    "        return True  # ponto repetido\n",
    "\n",
    "    cosine = np.dot(ab, bc) / (ab_len * bc_len)\n",
    "    angle = np.degrees(np.arccos(np.clip(cosine, -1.0, 1.0)))\n",
    "\n",
    "    return abs(angle) < angle_threshold or abs(angle - 180) < angle_threshold"
   ]
  },
  {
   "cell_type": "code",
   "execution_count": null,
   "id": "6b2f11e1",
   "metadata": {},
   "outputs": [],
   "source": [
    "# 📥 Carregar o arquivo com coordenadas\n",
    "with open(pathDados, \"r\", encoding=\"utf-8\") as f:\n",
    "    coords = json.load(f)\n",
    "\n",
    "print(f\"Total de coordenadas originais: {len(coords)}\")"
   ]
  },
  {
   "cell_type": "code",
   "execution_count": null,
   "id": "6e2de4a1",
   "metadata": {},
   "outputs": [],
   "source": [
    "# 🧼 Remover pontos que formam retas puras\n",
    "final_coords = []\n",
    "i = 0\n",
    "while i < len(coords) - 2:\n",
    "    p1, p2, p3 = coords[i], coords[i+1], coords[i+2]\n",
    "    if is_redundant_straight(p1, p2, p3):\n",
    "        final_coords.append(p1)\n",
    "        i += 2  # pula ponto do meio\n",
    "    else:\n",
    "        final_coords.append(p1)\n",
    "        i += 1\n",
    "\n",
    "# Adiciona os dois últimos pontos\n",
    "final_coords.extend(coords[-2:])\n",
    "print(f\"Total após remoção de retas: {len(final_coords)}\")"
   ]
  },
  {
   "cell_type": "code",
   "execution_count": null,
   "id": "f18f1bed",
   "metadata": {},
   "outputs": [],
   "source": [
    "# 💾 Salvar o resultado\n",
    "with open(\"Pernambuco_sem_qualquer_reta.json\", \"w\", encoding=\"utf-8\") as f:\n",
    "    json.dump(final_coords, f, indent=2, ensure_ascii=False)\n",
    "\n",
    "print(\"Arquivo salvo como 'Pernambuco_sem_qualquer_reta.json'\")"
   ]
  }
 ],
 "metadata": {
  "language_info": {
   "name": "python"
  }
 },
 "nbformat": 4,
 "nbformat_minor": 5
}
